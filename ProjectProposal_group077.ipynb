{
 "cells": [
  {
   "cell_type": "markdown",
   "metadata": {},
   "source": [
    "# COGS 108 - Final Project Proposal"
   ]
  },
  {
   "cell_type": "markdown",
   "metadata": {},
   "source": [
    "# Names\n",
    "\n",
    "- Ryan Swartz\n",
    "- Egor Pustovalov\n",
    "- Matthew Cohen\n",
    "- Xuwen Yan(Ella)\n",
    "- Connor McManigal"
   ]
  },
  {
   "cell_type": "markdown",
   "metadata": {},
   "source": [
    "# Research Question"
   ]
  },
  {
   "cell_type": "markdown",
   "metadata": {},
   "source": [
    "Is there an association between an NBA team’s number and rank of injured players to their record from the 2015 season through the 2019 season? Also, can we accurately predict a team’s change in record based on injuries that occur in future seasons?"
   ]
  },
  {
   "cell_type": "markdown",
   "metadata": {},
   "source": [
    "## Background and Prior Work"
   ]
  },
  {
   "cell_type": "markdown",
   "metadata": {},
   "source": [
    "The NBA is revered as the best basketball league in the world due to its highly competitive and captivating environment, features of the best professional athletes, and the ability for players to sign contracts, thus generating millions of dollars in revenue. Athletes in the NBA are considered some of the best competitors due to their agility, endurance,\n",
    "speed, size, skills, and talent. In the NBA, a single game consists of four twelve-minute quarters and the game clock is intermittently stopped for timeouts, fouls, quarter breaks, and a halftime. This makes it difficult to judge the exact duration that athletes are on the court, but it is estimated that the average NBA game lasts around two and a half hours\n",
    "and some games can last around three hours.[^Lw] This means that these highly skilled players are on the court competing for a considerably long duration, sometimes with little rest at all. Due to these competitive conditions, it is common for NBA players to get injured, and consequently, have to sit on the bench until they recover.\n",
    "Additionally, a typical NBA season for a team includes eighty-two regular season games with the possibility of additional games if their team advances to the playoffs. Overall, this combined with the physicality of every minute of each game creates an environment with a high rate of injury.\n",
    "\n",
    "Statistics have been taken on the distribution of injury types across the NBA and show that 57.8% of injuries involve the lower extremities, 19.3% for the upper extremities, 10% for the torso, and 1.8% are related to cervical trauma.[^aes5559] Some of the typical lower extremity injuries include the ankles, knees, foot fractures,\n",
    "and muscle tears. Some other common injuries are sprained fingers, concussions, broken noses, facial injuries, and sometimes even leg open fractures.[^Thompson] Among other findings, players who weigh more, are taller, and are between the ages of 26 and 34 are considered the most likely to become injured. Interestingly, a study was administered on NBA games\n",
    "from 1988 to 2005 and showed that there were upwards of 12,500 injuries that took place and around 6,200 of them were related to athletes’ ankles. All together, these statistics are concerning, but the NBA released information last year that stated that the injury rates of players was down about six percent.[^Reynolds]\n",
    "\n",
    "We want to analyze the impact of how the number of injured players on a team affects the overall team’s efficiency and performance. To do this, we will need to take into consideration a player’s injury history, the duration of the player being out, and the number of injured players on a team.\n",
    "\n",
    "[^aes5559]: aes5559, and aes5559. “SIOWFA15: Science in Our World: Certainty and Controversy.” SiOWfa15 Science in Our World Certainty and Controversy, 11 Dec. 2015,\n",
    " https://sites.psu.edu/siowfa15/2015/12/11/whos-most-likely-to-get-injured-in-the-nba-and-how/.\n",
    "[^Lw]: Lw. “NBA Game Length: How Long Is an NBA Game in Minutes?” MARCA, Marca, 10 Mar. 2022, https://www.marca.com/en/basketball/nba/2022/03/10/622a267de2704ef25e8b4585.html.\n",
    "[^Thompson]: Thompson, Darrelle. “What Are the Most Common Injuries in the NBA?” Sportscasting, 13 Sept. 2019, https://www.sportscasting.com/what-are-the-most-common-injuries-in-the-nba/.\n",
    "[^Reynolds]: Tim Reynolds | The Associated Press. “NBA Says Injury Rate down Slightly from Normal.” NBA.com, NBA.com, 15 Apr. 2021, https://www.nba.com/news/nba-says-injury-rate-down-slightly-from-normal."
   ]
  },
  {
   "cell_type": "markdown",
   "metadata": {},
   "source": [
    "# Hypothesis\n"
   ]
  },
  {
   "cell_type": "markdown",
   "metadata": {},
   "source": [
    "Our hypothesis is there is a correlation between higher ranked players getting injured with a lower team record. We predict that injured top ranked defensive players will have the most negative impact on the team record. We also predict that knee injuries will have the most negative impact on players in their future performance. \n",
    "The reasoning behind our hypothesis is because many players are very talented in the NBA and can take over in scoring and other categories while defense intensity is something not all players have. Also knee injuries affect jumping the most, which is a very important part in today's game. \n",
    "Null Hypothesis: Any injury, no matter the ranking of the player, will have the same impact on team record due to random chance. Also, any injury will have the same impact on players in their future performance. \n",
    "The test significance is 5%. \n"
   ]
  },
  {
   "cell_type": "markdown",
   "metadata": {},
   "source": [
    "# Data"
   ]
  },
  {
   "cell_type": "markdown",
   "metadata": {},
   "source": [
    "*Explain what the ideal dataset you would want to answer this question. (This should include: What variables? How many observations? Who/what/how would these data be collected? How would these data be stored/organized?)* <br>\n",
    "In order to answer how the rank of injured players impacts a team’s ranking, there are several variables and relationships that need to exist in the data. Our dataset must contain tables that include player to injury, player to player ranking/stats, player to their team, and team to ranking/stats associations. <br>\n",
    "While having multiple thousands of data points would be wonderful, our experiment is unfortunately constrained by the injuries sustained during playtime. Each year of basketball in the NBA contains around 1,230 matches, and according to a study by the National Library of Medicine, there are 19.1 athlete injuries per 1,000 exposures. Therefore, there should be on average 1,230 matches * 30 athletes * 0.0191 injuries per match = 704 athlete injuries per year ( two 15 player teams are in each match, giving us 30 athletes). Since we are examining 5 years of NBA data, we should get roughly 3,520 injuries in that timeframe.\n",
    "Most of this data will be collected from NBA Stuffer which provides free data on players, teams, etc. Player injury information will come from an NBA Injuries from 2010-2020 dataset available on kaggle. <br>\n",
    "Currently there are three main tables from these sources that will be used to investigate the hypothesis. More may be added later on.  Ideally we would normalize the tables into 3NF to ensure lossless join and dependency preservation based on functional dependencies that we will establish. Our data may then be stored in an SQL database such as SQLite and read into python through the sqlite3 library interface. Below is a summary of each table. <br> <br>\n",
    "Player Injury Table        \n",
    "|Columns | Data Types| \n",
    "| -------|-----------|\n",
    "|Date    |date       |\n",
    "|Team    |varchar    |\n",
    "|Relinquished| varchar|\n",
    "|Notes   | varchar|\n",
    "\n",
    "In this table the relinquished column states the player’s name and the Notes column states the injury type. Unfortunately, the table is not atomic because the Notes lists multiple injuries that may occur. This will have to be processed during the analysis. <br>\n",
    "\n",
    "Player Stats Table\n",
    "|Columns | Data Types| \n",
    "| -------|-----------|\n",
    "|Name    |varchar    |\n",
    "|Team    |varchar    |\n",
    "|POS     |varchar    |\n",
    "|stat1   |float      |\n",
    "|...     | ...       |\n",
    "|statn   |float      |\n",
    "\n",
    "This table shows the all time stats of players during their time on a certain team. Many different values such as MPG, TS%, RPG, etc. are provided for player statistics. <br>\n",
    "\n",
    "Team Stats Table\n",
    "|Columns | Data Types| \n",
    "| -------|-----------|\n",
    "|Team    |varchar    |\n",
    "|CONF    |varchar    |\n",
    "|Division|varchar    |\n",
    "|stat1   |float      |\n",
    "|...     | ...       |\n",
    "|statn   |float      |\n",
    "\n",
    "The final table lists the stats for teams in general. \n"
   ]
  },
  {
   "cell_type": "markdown",
   "metadata": {},
   "source": [
    "# Ethics & Privacy"
   ]
  },
  {
   "cell_type": "markdown",
   "metadata": {},
   "source": [
    "We got our data from Kaggle and information made public by the NBA. With the topic we chose, there is not really much of a privacy concern to worry about since all of the data participants/subjects are professional basketball players and teams whose information is knowingly and voluntarily public. Therefore, there is no reason or need to use some sort of id number to hide the players’ privacy. We will do our best to make sure we explain all the analysis we conduct and how we conduct it in order to be as transparent as possible."
   ]
  },
  {
   "cell_type": "markdown",
   "metadata": {},
   "source": [
    "# Team Expectations "
   ]
  },
  {
   "cell_type": "markdown",
   "metadata": {},
   "source": [
    "* *Our Team expected to work through the project and collaborate on ideas/code/analysis following the timeline listed below*\n",
    "* *Our Team expected to divide works/responsibilities among group members*\n",
    "* *Our Team expected to meet each week to work together and communicate progress of the project*\n",
    "* *Our Team expected to incoporate what we learned about data science in COGS108 into the project*\n",
    "* *Our Team expected to wrangling/EDA/Analysis the data and come up with an analytical result for our test hypothesis.*"
   ]
  },
  {
   "cell_type": "markdown",
   "metadata": {},
   "source": [
    "# Project Timeline Proposal"
   ]
  },
  {
   "cell_type": "markdown",
   "metadata": {},
   "source": [
    "| Meeting Date  | Meeting Time| Completed Before Meeting  | Discuss at Meeting |\n",
    "|---|---|---|---|\n",
    "| 4/20  |  7 PM | Read & Think about COGS 108 expectations; brainstorm topics/questions  | Determine best form of communication; Discuss and decide on final project topic; discuss and determine dataset being used; discuss hypothesis; discuss the question being asked based on the dataset; begin background research | \n",
    "| 4/22  |  7 PM |  proposal draft, search for datasets | check, finalize and submit proposal | \n",
    "| 4/29  | 7 PM  | finalize datasets  |  Discuss Wrangling and possible analytical approaches; sssign group members with specific part   |\n",
    "| 5/04  | 7 PM  | Import & Wrangle Data; EDA| Review/Edit wrangling/EDA; Discuss Analysis Plan and models; Finalize Checkpoint1   |\n",
    "| 5/11  | 7 PM  | Finalize wrangling/EDA; Begin Analysis| Discuss/edit Analysis; visualize analysis  |\n",
    "| 5/18  | 7 PM  | Complete analysis; Draft results/conclusion/discussion| Discuss/edit full project; Discuss results and conslusions; finalize chekpoint2 |\n",
    "| 6/03  | Before 11:59 PM  | review/check entire project | Review/check details and minor mistakes of the entire project, finalize the project to make it ready for turn in|"
   ]
  }
 ],
 "metadata": {
  "kernelspec": {
   "display_name": "Python 3 (ipykernel)",
   "language": "python",
   "name": "python3"
  },
  "language_info": {
   "codemirror_mode": {
    "name": "ipython",
    "version": 3
   },
   "file_extension": ".py",
   "mimetype": "text/x-python",
   "name": "python",
   "nbconvert_exporter": "python",
   "pygments_lexer": "ipython3",
   "version": "3.9.12"
  }
 },
 "nbformat": 4,
 "nbformat_minor": 2
}
